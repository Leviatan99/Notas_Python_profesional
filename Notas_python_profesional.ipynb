{
 "cells": [
  {
   "cell_type": "markdown",
   "metadata": {},
   "source": [
    "# Curso profesional de Python  \n",
    "---\n",
    "Profesor : *Facundo García Martoni*  \n",
    "Alumno: *Leviatan*  \n"
   ]
  },
  {
   "cell_type": "markdown",
   "metadata": {},
   "source": [
    "## Organizar archivos de proyectos\n",
    "Primero comencemos con organizar nuestros archivos mientras estamos desarrollando nuestros proyectos:  \n",
    "* **Modulo**: Cualquier archivo de python *.py* que normalmente contiene código que se puede reutilizar  \n",
    "Un módulo puede contener:\n",
    "\n",
    "1. Funciones\n",
    "2. Clases\n",
    "3. Variables\n",
    "4. Código ejecutable\n",
    "5. Atributos asociados con el módulos\n",
    "* **Paquete**: Es una carpeta que contiene módulo. Estos archidos siempre tienen un archivo *__init__.pi*, esto se lee *dunder init*  \n",
    "El archivo opcional *init.py* puede contener código que se ejecuta cuando un módulo se importa del paquete (inicialización).\n",
    "Así se vería la carpeta de un proyecto:  \n"
   ]
  },
  {
   "cell_type": "markdown",
   "metadata": {},
   "source": [
    "    README.md  \n",
    "    .gitignore  \n",
    "    venv  \n",
    "    proyecto:  \n",
    "        __init__.py\n",
    "        nave.py\n",
    "        destino.py\n",
    "        plataforma.py\n",
    "        lanzamiento.py\n",
    "        test.py\n",
    "        validación.py"
   ]
  },
  {
   "cell_type": "markdown",
   "metadata": {},
   "source": [
    "* **R E A D M E . md**: Explica como funciona el proyecto, github y gitlab lo toman para explicarle a otros desarrolladores como trabajar con él  \n",
    "\n",
    "* **.gi t i g n o re**: Es un archivo que se usa para ignorar todos los archivos que no queremos que se suban a un repositorio remoto\n",
    "ve n v todos los módulos que se usan para trabajar en el proyecto.  \n",
    "\n",
    "* **El paquete del proyecto**:\n",
    "-Componentes del proyecto"
   ]
  },
  {
   "cell_type": "markdown",
   "metadata": {},
   "source": [
    "## Tipado\n",
    "Existen 4 diferentes tipados:  \n",
    "* Estático\n",
    "* Dinámico\n",
    "* Fuerte\n",
    "* Débil\n"
   ]
  }
 ],
 "metadata": {
  "interpreter": {
   "hash": "cbfc86b8d76b435171b6e67a8bf65436bf412392e01b055dc395b2befeac4b11"
  },
  "kernelspec": {
   "display_name": "Python 3.9.0 64-bit",
   "language": "python",
   "name": "python3"
  },
  "language_info": {
   "name": "python",
   "version": "3.9.0"
  },
  "orig_nbformat": 4
 },
 "nbformat": 4,
 "nbformat_minor": 2
}
